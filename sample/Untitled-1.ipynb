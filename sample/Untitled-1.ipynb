{
 "cells": [
  {
   "cell_type": "code",
   "execution_count": 4,
   "id": "6ae6a38d",
   "metadata": {},
   "outputs": [
    {
     "name": "stdout",
     "output_type": "stream",
     "text": [
      "✅ Broker data generated without common_trade_id.\n"
     ]
    }
   ],
   "source": [
    "import pandas as pd\n",
    "import random\n",
    "from faker import Faker\n",
    "from datetime import datetime, timedelta\n",
    "\n",
    "fake = Faker()\n",
    "\n",
    "def generate_isin():\n",
    "    return ''.join(random.choices('ABCDEFGHIJKLMNOPQRSTUVWXYZ', k=2)) + ''.join(random.choices('0123456789', k=10))\n",
    "\n",
    "def generate_broker_data_without_common_id(n=5000):\n",
    "    sides = ['Buy', 'Sell']\n",
    "    custodians = ['State Street', 'BNY Mellon', 'Northern Trust', 'HDFC Custodian']\n",
    "    broker_ids = ['BRK001', 'BRK002', 'BRK003', 'BRK004']\n",
    "    \n",
    "    data = []\n",
    "    \n",
    "    for i in range(n):\n",
    "        trade_id = f'BKR{i:06d}'\n",
    "        isin = generate_isin()\n",
    "        quantity = random.randint(100, 10000)\n",
    "        price = round(random.uniform(50.0, 1000.0), 2)\n",
    "        trade_date = fake.date_between(start_date='-180d', end_date='today')\n",
    "        settlement_date = trade_date + timedelta(days=random.randint(1, 3))\n",
    "        side = random.choice(sides)\n",
    "        counter_party = random.choice(custodians)\n",
    "        broker_id = random.choice(broker_ids)\n",
    "        \n",
    "        data.append({\n",
    "            'trade_id': trade_id,\n",
    "            'isin': isin,\n",
    "            'quantity': quantity,\n",
    "            'price': price,\n",
    "            'trade_date': trade_date.strftime('%Y-%m-%d'),\n",
    "            'settlement_date': settlement_date.strftime('%Y-%m-%d'),\n",
    "            'side': side,\n",
    "            'counter_party': counter_party,\n",
    "            'broker_id': broker_id\n",
    "        })\n",
    "    \n",
    "    return pd.DataFrame(data)\n",
    "\n",
    "# Generate and save broker data without common_trade_id\n",
    "broker_df = generate_broker_data_without_common_id(5000)\n",
    "broker_df.to_csv(\"broker_data_raw.csv\", index=False)\n",
    "print(\"✅ Broker data generated without common_trade_id.\")\n"
   ]
  },
  {
   "cell_type": "code",
   "execution_count": 5,
   "id": "70f756ab",
   "metadata": {},
   "outputs": [
    {
     "name": "stdout",
     "output_type": "stream",
     "text": [
      "✅ common_trade_id added to broker data.\n",
      "  common_trade_id   trade_id          isin  quantity   price  trade_date  \\\n",
      "0          F6046V  BKR000000  JS2665624158       267  312.07  2025-02-24   \n",
      "1          S8302U  BKR000001  LY0049801248      7467  322.06  2025-05-28   \n",
      "2          W9017L  BKR000002  QF5297575190      7104  801.17  2025-03-04   \n",
      "3          E9667Q  BKR000003  ZQ1716858536      3459  748.74  2025-01-15   \n",
      "4          P7895A  BKR000004  CX4878820103      5060  863.57  2025-02-20   \n",
      "\n",
      "  settlement_date  side   counter_party broker_id  \n",
      "0      2025-02-25  Sell    State Street    BRK002  \n",
      "1      2025-05-31   Buy  Northern Trust    BRK003  \n",
      "2      2025-03-06  Sell  HDFC Custodian    BRK004  \n",
      "3      2025-01-17  Sell  HDFC Custodian    BRK004  \n",
      "4      2025-02-21  Sell      BNY Mellon    BRK004  \n"
     ]
    }
   ],
   "source": [
    "def generate_common_trade_id(i):\n",
    "    return random.choice('ABCDEFGHIJKLMNOPQRSTUVWXYZ') + \\\n",
    "           f\"{random.randint(1000, 9999)}\" + \\\n",
    "           random.choice('ABCDEFGHIJKLMNOPQRSTUVWXYZ')\n",
    "\n",
    "def add_common_trade_id_to_file(file_path, output_path):\n",
    "    df = pd.read_csv(file_path)\n",
    "    df.insert(0, 'common_trade_id', [generate_common_trade_id(i) for i in range(len(df))])\n",
    "    df.to_csv(output_path, index=False)\n",
    "    print(\"✅ common_trade_id added to broker data.\")\n",
    "    return df\n",
    "\n",
    "# Add common_trade_id to broker file\n",
    "broker_with_common_id_df = add_common_trade_id_to_file(\"broker_data_raw.csv\", \"broker_data_with_common_id.csv\")\n",
    "print(broker_with_common_id_df.head())\n"
   ]
  },
  {
   "cell_type": "code",
   "execution_count": 6,
   "id": "80e17648",
   "metadata": {},
   "outputs": [
    {
     "name": "stdout",
     "output_type": "stream",
     "text": [
      "✅ Custodian data generated.\n",
      "  common_trade_id   trade_id          isin  quantity   price  trade_date  \\\n",
      "0          F6046V  CST920701  JS2665624158       267  312.07  2025-02-24   \n",
      "1          S8302U  CST182608  LY0049801248      7467  322.06  2025-05-28   \n",
      "2          W9017L  CST403606  QF5297575190      7104  801.17  2025-03-04   \n",
      "3          E9667Q  CST343863  ZQ1716858536      3459  748.74  2025-01-15   \n",
      "4          P7895A  CST957612  CX4878820103      3646  863.57  2025-02-20   \n",
      "\n",
      "  settlement_date  side   counter_party broker_id     source  \n",
      "0      2025-02-25  Sell    State Street    BRK002  Custodian  \n",
      "1      2025-05-31   Buy  Northern Trust    BRK003  Custodian  \n",
      "2      2025-03-06  Sell  HDFC Custodian    BRK004  Custodian  \n",
      "3      2025-01-17  Sell  HDFC Custodian    BRK004  Custodian  \n",
      "4      2025-02-21  Sell      BNY Mellon    BRK004  Custodian  \n"
     ]
    }
   ],
   "source": [
    "def generate_custodian_data(broker_df):\n",
    "    custodian_data = []\n",
    "\n",
    "    for _, row in broker_df.iterrows():\n",
    "        match_type = random.choices(\n",
    "            ['matched', 'partial', 'unmatched'], weights=[0.7, 0.2, 0.1])[0]\n",
    "\n",
    "        custodian_trade_id = f'CST{random.randint(100000,999999)}'\n",
    "\n",
    "        # Start from broker data\n",
    "        custodian_row = row.copy()\n",
    "        custodian_row['trade_id'] = custodian_trade_id\n",
    "        custodian_row['source'] = 'Custodian'\n",
    "\n",
    "        # Apply differences based on match type\n",
    "        if match_type == 'partial':\n",
    "            custodian_row['quantity'] = int(row['quantity'] * random.uniform(0.7, 0.95))\n",
    "        elif match_type == 'unmatched':\n",
    "            custodian_row['isin'] = generate_isin()\n",
    "            custodian_row['quantity'] = random.randint(100, 10000)\n",
    "            custodian_row['price'] = round(random.uniform(50.0, 1000.0), 2)\n",
    "            custodian_row['side'] = 'Buy' if row['side'] == 'Sell' else 'Sell'\n",
    "            custodian_row['counter_party'] = fake.company()\n",
    "\n",
    "        custodian_data.append(custodian_row)\n",
    "\n",
    "    custodian_df = pd.DataFrame(custodian_data)\n",
    "    return custodian_df\n",
    "\n",
    "# Generate custodian data from broker data with common_trade_id\n",
    "custodian_df = generate_custodian_data(broker_with_common_id_df)\n",
    "custodian_df.to_csv(\"custodian_data.csv\", index=False)\n",
    "print(\"✅ Custodian data generated.\")\n",
    "print(custodian_df.head())\n"
   ]
  },
  {
   "cell_type": "code",
   "execution_count": null,
   "id": "bd31d55c",
   "metadata": {},
   "outputs": [],
   "source": []
  }
 ],
 "metadata": {
  "kernelspec": {
   "display_name": "base",
   "language": "python",
   "name": "python3"
  },
  "language_info": {
   "codemirror_mode": {
    "name": "ipython",
    "version": 3
   },
   "file_extension": ".py",
   "mimetype": "text/x-python",
   "name": "python",
   "nbconvert_exporter": "python",
   "pygments_lexer": "ipython3",
   "version": "3.11.3"
  }
 },
 "nbformat": 4,
 "nbformat_minor": 5
}
