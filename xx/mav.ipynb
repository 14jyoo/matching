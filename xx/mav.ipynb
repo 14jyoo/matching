{
 "cells": [
  {
   "cell_type": "markdown",
   "id": "b9b1d986",
   "metadata": {},
   "source": [
    "security table"
   ]
  },
  {
   "cell_type": "code",
   "execution_count": 11,
   "id": "8d638d49",
   "metadata": {},
   "outputs": [],
   "source": [
    "import pandas as pd\n",
    "import random\n",
    "import string\n",
    "from itertools import permutations\n",
    "from datetime import datetime, timedelta, date\n",
    "\n",
    "\n",
    "instrument_types = [\n",
    "    'equity', 'fixed income', 'derivatives', 'commodity', 'currency',\n",
    "    'cash equivalent', 'real estate', 'mutual fund', 'etf',\n",
    "    'private equity', 'hedge fund', 'structured product'\n",
    "]\n",
    "custodian_names = ['State Street', 'BNY Mellon', 'Northern Trust', 'HDFC Custodian']\n",
    "\n",
    "used_sec_ids = set()\n",
    "security_data = []\n",
    "\n",
    "def generate_unique_sec_id():\n",
    "    while True:\n",
    "        num = random.randint(1000, 9999)\n",
    "        sec_id = f\"SEC{num}\"\n",
    "        if sec_id not in used_sec_ids:\n",
    "            used_sec_ids.add(sec_id)\n",
    "            return sec_id\n",
    "\n",
    "def generate_cusip():\n",
    "    return ''.join(random.choices(string.digits, k=9))\n",
    "\n",
    "def generate_isin(cusip):\n",
    "    country_code = random.choice(['US', 'IN', 'GB', 'DE', 'JP'])\n",
    "    check_letter = random.choice('ABCDEFGHIJKLMNOPQRSTUVWXYZ')  # single letter\n",
    "    return country_code + cusip + check_letter\n",
    "\n",
    "\n",
    "for _ in range(1000):\n",
    "    security_id = generate_unique_sec_id()\n",
    "    cusip = generate_cusip()\n",
    "    isin = generate_isin(cusip)\n",
    "    instrument = random.choice(instrument_types)\n",
    "    custodian_name = random.choice(custodian_names)\n",
    "    security_data.append([security_id, cusip, isin, instrument, custodian_name])\n",
    "\n",
    "security_df = pd.DataFrame(security_data, columns=['security_id', 'cusip', 'isin', 'instrument', 'custodian_name'])\n",
    "\n"
   ]
  },
  {
   "cell_type": "code",
   "execution_count": 12,
   "id": "78c96797",
   "metadata": {},
   "outputs": [
    {
     "data": {
      "text/html": [
       "<div>\n",
       "<style scoped>\n",
       "    .dataframe tbody tr th:only-of-type {\n",
       "        vertical-align: middle;\n",
       "    }\n",
       "\n",
       "    .dataframe tbody tr th {\n",
       "        vertical-align: top;\n",
       "    }\n",
       "\n",
       "    .dataframe thead th {\n",
       "        text-align: right;\n",
       "    }\n",
       "</style>\n",
       "<table border=\"1\" class=\"dataframe\">\n",
       "  <thead>\n",
       "    <tr style=\"text-align: right;\">\n",
       "      <th></th>\n",
       "      <th>security_id</th>\n",
       "      <th>cusip</th>\n",
       "      <th>isin</th>\n",
       "      <th>instrument</th>\n",
       "      <th>custodian_name</th>\n",
       "    </tr>\n",
       "  </thead>\n",
       "  <tbody>\n",
       "    <tr>\n",
       "      <th>0</th>\n",
       "      <td>SEC4102</td>\n",
       "      <td>219591803</td>\n",
       "      <td>US219591803A</td>\n",
       "      <td>derivatives</td>\n",
       "      <td>HDFC Custodian</td>\n",
       "    </tr>\n",
       "    <tr>\n",
       "      <th>1</th>\n",
       "      <td>SEC3933</td>\n",
       "      <td>333244684</td>\n",
       "      <td>DE333244684D</td>\n",
       "      <td>equity</td>\n",
       "      <td>State Street</td>\n",
       "    </tr>\n",
       "    <tr>\n",
       "      <th>2</th>\n",
       "      <td>SEC2976</td>\n",
       "      <td>046265237</td>\n",
       "      <td>US046265237Z</td>\n",
       "      <td>fixed income</td>\n",
       "      <td>BNY Mellon</td>\n",
       "    </tr>\n",
       "    <tr>\n",
       "      <th>3</th>\n",
       "      <td>SEC6786</td>\n",
       "      <td>332238329</td>\n",
       "      <td>US332238329H</td>\n",
       "      <td>real estate</td>\n",
       "      <td>Northern Trust</td>\n",
       "    </tr>\n",
       "    <tr>\n",
       "      <th>4</th>\n",
       "      <td>SEC6339</td>\n",
       "      <td>802237548</td>\n",
       "      <td>GB802237548U</td>\n",
       "      <td>currency</td>\n",
       "      <td>BNY Mellon</td>\n",
       "    </tr>\n",
       "    <tr>\n",
       "      <th>5</th>\n",
       "      <td>SEC9678</td>\n",
       "      <td>797438679</td>\n",
       "      <td>US797438679Q</td>\n",
       "      <td>real estate</td>\n",
       "      <td>HDFC Custodian</td>\n",
       "    </tr>\n",
       "    <tr>\n",
       "      <th>6</th>\n",
       "      <td>SEC2894</td>\n",
       "      <td>803407225</td>\n",
       "      <td>JP803407225J</td>\n",
       "      <td>equity</td>\n",
       "      <td>BNY Mellon</td>\n",
       "    </tr>\n",
       "    <tr>\n",
       "      <th>7</th>\n",
       "      <td>SEC3444</td>\n",
       "      <td>159369198</td>\n",
       "      <td>JP159369198Z</td>\n",
       "      <td>cash equivalent</td>\n",
       "      <td>Northern Trust</td>\n",
       "    </tr>\n",
       "    <tr>\n",
       "      <th>8</th>\n",
       "      <td>SEC9307</td>\n",
       "      <td>780189494</td>\n",
       "      <td>DE780189494S</td>\n",
       "      <td>private equity</td>\n",
       "      <td>State Street</td>\n",
       "    </tr>\n",
       "    <tr>\n",
       "      <th>9</th>\n",
       "      <td>SEC7155</td>\n",
       "      <td>154229758</td>\n",
       "      <td>DE154229758C</td>\n",
       "      <td>fixed income</td>\n",
       "      <td>State Street</td>\n",
       "    </tr>\n",
       "  </tbody>\n",
       "</table>\n",
       "</div>"
      ],
      "text/plain": [
       "  security_id      cusip          isin       instrument  custodian_name\n",
       "0     SEC4102  219591803  US219591803A      derivatives  HDFC Custodian\n",
       "1     SEC3933  333244684  DE333244684D           equity    State Street\n",
       "2     SEC2976  046265237  US046265237Z     fixed income      BNY Mellon\n",
       "3     SEC6786  332238329  US332238329H      real estate  Northern Trust\n",
       "4     SEC6339  802237548  GB802237548U         currency      BNY Mellon\n",
       "5     SEC9678  797438679  US797438679Q      real estate  HDFC Custodian\n",
       "6     SEC2894  803407225  JP803407225J           equity      BNY Mellon\n",
       "7     SEC3444  159369198  JP159369198Z  cash equivalent  Northern Trust\n",
       "8     SEC9307  780189494  DE780189494S   private equity    State Street\n",
       "9     SEC7155  154229758  DE154229758C     fixed income    State Street"
      ]
     },
     "execution_count": 12,
     "metadata": {},
     "output_type": "execute_result"
    }
   ],
   "source": [
    "security_df.head(10)"
   ]
  },
  {
   "cell_type": "code",
   "execution_count": 13,
   "id": "69d9d0d4",
   "metadata": {},
   "outputs": [],
   "source": [
    "security_df.to_csv(\"security_table.csv\", index=False)"
   ]
  },
  {
   "cell_type": "code",
   "execution_count": 14,
   "id": "cebfc2ab",
   "metadata": {},
   "outputs": [
    {
     "name": "stdout",
     "output_type": "stream",
     "text": [
      "🔁 Duplicate security_id entries: 0\n"
     ]
    }
   ],
   "source": [
    "security_df = pd.read_csv(\"security_table.csv\")\n",
    "duplicates = security_df['security_id'].duplicated().sum()\n",
    "print(f\"🔁 Duplicate security_id entries: {duplicates}\")\n"
   ]
  },
  {
   "cell_type": "markdown",
   "id": "066f7ef1",
   "metadata": {},
   "source": [
    "Settlement table\n"
   ]
  },
  {
   "cell_type": "code",
   "execution_count": 16,
   "id": "c2ea0c0e",
   "metadata": {},
   "outputs": [],
   "source": [
    "company_df = pd.read_csv(\"company_details.csv\")  # Should have 'company_id'\n",
    "company_ids = company_df['company_id'].tolist()"
   ]
  },
  {
   "cell_type": "code",
   "execution_count": 19,
   "id": "526f5b75",
   "metadata": {},
   "outputs": [
    {
     "name": "stdout",
     "output_type": "stream",
     "text": [
      "Total unique sender ≠ receiver pairs available: 20\n"
     ]
    }
   ],
   "source": [
    "company_df = pd.read_csv(\"company_details.csv\")  # must have 'company_id'\n",
    "security_df = pd.read_csv(\"security_table.csv\")  # must have 'security_id'\n",
    "\n",
    "company_ids = company_df['company_id'].tolist()\n",
    "security_ids = security_df['security_id'].tolist()\n",
    "\n",
    "# Generate all unique sender ≠ receiver pairs\n",
    "all_possible_pairs = list(permutations(company_ids, 2))\n",
    "random.shuffle(all_possible_pairs)\n",
    "\n",
    "print(f\"Total unique sender ≠ receiver pairs available: {len(all_possible_pairs)}\")\n",
    "\n",
    "# Prepare for settlement ID uniqueness\n",
    "used_sett_ids = set()\n",
    "settlement_data = []\n",
    "\n",
    "def generate_unique_sett_id():\n",
    "    while True:\n",
    "        sid = f\"SETT{random.randint(1000, 9999)}\"\n",
    "        if sid not in used_sett_ids:\n",
    "            used_sett_ids.add(sid)\n",
    "            return sid\n",
    "\n",
    "# Adjust max rows safely\n",
    "max_settlements = min(5000, len(all_possible_pairs))\n",
    "\n",
    "for i in range(max_settlements):\n",
    "    sender_id, receiver_id = all_possible_pairs[i]\n",
    "    settlement_id = generate_unique_sett_id()\n",
    "    security_id = random.choice(security_ids)\n",
    "    settlement_date = (date.today() + timedelta(days=random.randint(1, 60))).isoformat()\n",
    "    settlement_data.append([settlement_id, sender_id, receiver_id, security_id, settlement_date])\n",
    "\n",
    "# Create DataFrame and save\n",
    "settlement_df = pd.DataFrame(settlement_data, columns=[\n",
    "    'settlement_id', 'sender_id', 'receiver_id', 'security_id', 'settlement_date'\n",
    "])\n",
    "\n"
   ]
  },
  {
   "cell_type": "code",
   "execution_count": 20,
   "id": "4f3b846b",
   "metadata": {},
   "outputs": [],
   "source": [
    "settlement_df.to_csv(\"settlement_instructions_extended.csv\", index=False)\n"
   ]
  },
  {
   "cell_type": "code",
   "execution_count": 21,
   "id": "77064a0d",
   "metadata": {},
   "outputs": [
    {
     "name": "stdout",
     "output_type": "stream",
     "text": [
      "🔁 Duplicate settlement_id entries: 0\n"
     ]
    }
   ],
   "source": [
    "settlement_df = pd.read_csv(\"settlement_instructions_extended.csv\")\n",
    "duplicates = settlement_df['settlement_id'].duplicated().sum()\n",
    "print(f\"🔁 Duplicate settlement_id entries: {duplicates}\")\n"
   ]
  },
  {
   "cell_type": "code",
   "execution_count": null,
   "id": "a413f8a5",
   "metadata": {},
   "outputs": [],
   "source": []
  }
 ],
 "metadata": {
  "kernelspec": {
   "display_name": "base",
   "language": "python",
   "name": "python3"
  },
  "language_info": {
   "codemirror_mode": {
    "name": "ipython",
    "version": 3
   },
   "file_extension": ".py",
   "mimetype": "text/x-python",
   "name": "python",
   "nbconvert_exporter": "python",
   "pygments_lexer": "ipython3",
   "version": "3.11.3"
  }
 },
 "nbformat": 4,
 "nbformat_minor": 5
}
