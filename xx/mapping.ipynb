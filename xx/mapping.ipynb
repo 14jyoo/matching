{
 "cells": [
  {
   "cell_type": "code",
   "execution_count": 9,
   "id": "917b3802",
   "metadata": {},
   "outputs": [],
   "source": [
    "import pandas as pd"
   ]
  },
  {
   "cell_type": "code",
   "execution_count": 10,
   "id": "2a42ed40",
   "metadata": {},
   "outputs": [
    {
     "name": "stdout",
     "output_type": "stream",
     "text": [
      "  settlement_id  security_id\n",
      "0     STL635737  SEC83476316\n",
      "1     STL116785  SEC32466378\n",
      "2     STL967457  SEC92526768\n",
      "3     STL876744  SEC16236506\n",
      "4     STL567399  SEC11175111\n",
      "5     STL188171  SEC06202888\n",
      "6     STL782201  SEC07530448\n",
      "7     STL723671  SEC23978461\n",
      "8     STL697030  SEC85416912\n",
      "9     STL575802  SEC62299738\n"
     ]
    }
   ],
   "source": [
    "settlement_df = pd.read_csv(r\"C:\\Users\\JYOTHIKA\\Desktop\\sample\\xx\\settlement_instructions.csv\")\n",
    "print(settlement_df[['settlement_id', 'security_id']].head(10))\n"
   ]
  },
  {
   "cell_type": "code",
   "execution_count": 11,
   "id": "84e77980",
   "metadata": {},
   "outputs": [
    {
     "name": "stdout",
     "output_type": "stream",
     "text": [
      "Index(['security_id', 'isin', 'cusip', 'instrument'], dtype='object')\n",
      "0    SEC83476316\n",
      "1    SEC32466378\n",
      "2    SEC92526768\n",
      "3    SEC16236506\n",
      "4    SEC11175111\n",
      "5    SEC06202888\n",
      "6    SEC07530448\n",
      "7    SEC23978461\n",
      "8    SEC85416912\n",
      "9    SEC62299738\n",
      "Name: security_id, dtype: object\n"
     ]
    }
   ],
   "source": [
    "security_df = pd.read_csv(r\"C:\\Users\\JYOTHIKA\\Desktop\\sample\\xx\\synthetic_security_data.csv\")\n",
    "print(security_df.columns)\n",
    "print(security_df['security_id'].head(10))\n"
   ]
  },
  {
   "cell_type": "code",
   "execution_count": 12,
   "id": "ec8a264b",
   "metadata": {},
   "outputs": [
    {
     "name": "stdout",
     "output_type": "stream",
     "text": [
      "['SEC83476316', 'SEC32466378', 'SEC92526768', 'SEC16236506', 'SEC11175111', 'SEC06202888', 'SEC07530448', 'SEC23978461', 'SEC85416912', 'SEC62299738']\n"
     ]
    }
   ],
   "source": [
    "security_map = security_df.set_index('security_id')['isin'].to_dict()\n",
    "print(list(security_map.keys())[:10])\n"
   ]
  },
  {
   "cell_type": "code",
   "execution_count": 13,
   "id": "73e89f18",
   "metadata": {},
   "outputs": [
    {
     "name": "stdout",
     "output_type": "stream",
     "text": [
      "Security ID from settlement: SEC83476316\n",
      "Mapped ISIN from security map: PH899961209N\n"
     ]
    }
   ],
   "source": [
    "test_sid = settlement_df.iloc[0]['security_id']\n",
    "print(\"Security ID from settlement:\", test_sid)\n",
    "print(\"Mapped ISIN from security map:\", security_map.get(test_sid, 'NOT FOUND'))\n"
   ]
  },
  {
   "cell_type": "code",
   "execution_count": null,
   "id": "3dbddc5b",
   "metadata": {},
   "outputs": [],
   "source": []
  }
 ],
 "metadata": {
  "kernelspec": {
   "display_name": "base",
   "language": "python",
   "name": "python3"
  },
  "language_info": {
   "codemirror_mode": {
    "name": "ipython",
    "version": 3
   },
   "file_extension": ".py",
   "mimetype": "text/x-python",
   "name": "python",
   "nbconvert_exporter": "python",
   "pygments_lexer": "ipython3",
   "version": "3.11.3"
  }
 },
 "nbformat": 4,
 "nbformat_minor": 5
}
